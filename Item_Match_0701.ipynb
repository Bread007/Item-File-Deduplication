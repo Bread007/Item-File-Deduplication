{
 "cells": [
  {
   "cell_type": "code",
   "execution_count": 1,
   "metadata": {
    "collapsed": false
   },
   "outputs": [
    {
     "name": "stdout",
     "output_type": "stream",
     "text": [
      "2019-07-08 02:55:10.146000\n"
     ]
    }
   ],
   "source": [
    "import pandas as pd\n",
    "import numpy as np\n",
    "import os\n",
    "os.chdir(r'\\\\phont80025us.homeoffice.wal-mart.com\\Shares\\Audit_Analytics\\FY20\\Item_Matching')\n",
    "import re\n",
    "\n",
    "import datetime\n",
    "print datetime.datetime.utcnow()\n",
    "raw = pd.read_csv('raw_1_item_match.csv')"
   ]
  },
  {
   "cell_type": "code",
   "execution_count": 2,
   "metadata": {
    "collapsed": false
   },
   "outputs": [
    {
     "name": "stdout",
     "output_type": "stream",
     "text": [
      "97\n",
      "94\n",
      "92\n",
      "92\n"
     ]
    }
   ],
   "source": [
    "from fuzzywuzzy import fuzz\n",
    "\n",
    "#### Examples showing how this package works\n",
    "Str1 = \"ZARBEE'S BABY MUCUS\"\n",
    "Str2 = 'ZARBEES BABY MUCUS'\n",
    "\n",
    "Ratio = fuzz.ratio(Str1.lower(),Str2.lower())\n",
    "Partial_Ratio = fuzz.partial_ratio(Str1.lower(),Str2.lower())\n",
    "Token_Sort_Ratio = fuzz.token_sort_ratio(Str1,Str2)\n",
    "Token_Set_Ratio = fuzz.token_set_ratio(Str1,Str2)\n",
    "print(Ratio)                #---------Levenshtein\n",
    "print(Partial_Ratio)\n",
    "print(Token_Sort_Ratio)     \n",
    "print(Token_Set_Ratio)      #---------Jaccard"
   ]
  },
  {
   "cell_type": "code",
   "execution_count": 3,
   "metadata": {
    "collapsed": false
   },
   "outputs": [
    {
     "name": "stdout",
     "output_type": "stream",
     "text": [
      "59\n",
      "74\n",
      "100\n"
     ]
    }
   ],
   "source": [
    "Str1 = \"united states v. nixon\"\n",
    "Str2 = \"Nixon v. United States\"\n",
    "Ratio = fuzz.ratio(Str1.lower(),Str2.lower())\n",
    "Partial_Ratio = fuzz.partial_ratio(Str1.lower(),Str2.lower())\n",
    "Token_Sort_Ratio = fuzz.token_sort_ratio(Str1,Str2)\n",
    "print(Ratio)\n",
    "print(Partial_Ratio)\n",
    "print(Token_Sort_Ratio)"
   ]
  },
  {
   "cell_type": "code",
   "execution_count": 4,
   "metadata": {
    "collapsed": false
   },
   "outputs": [],
   "source": [
    "#### to have every possible combination of mft and cate group\n",
    "\n",
    "df_mft_cate = pd.pivot_table(raw,index =['UPC_mft_code_1','Dept Category Group Description'],\n",
    "                            values = ['Prime Item Nbr'],\n",
    "                            aggfunc = lambda x: len(x.unique()))\n",
    "df_mft_cate =  df_mft_cate.reset_index()\n",
    "df_mft_cate.columns = ['UPC_mft_code_1','Dept Category Group Description','Item_Count']\n",
    "\n",
    "### if the mft only exist in 1 cate group, there's no need to compare the items with such mft code\n",
    "\n",
    "df_mft_count = pd.pivot_table(df_mft_cate,index =['UPC_mft_code_1'],\n",
    "                            values = ['Dept Category Group Description'],\n",
    "                            aggfunc = lambda x: len(x.unique()))\n",
    "df_mft_count = df_mft_count.reset_index()\n",
    "df_mft_count.columns = ['UPC_mft_code_1','Cate_Group_Count']\n",
    "\n",
    "mft_1Cate = list(df_mft_count[df_mft_count['Cate_Group_Count']<=1]['UPC_mft_code_1'])\n",
    "mft_nCate = list(df_mft_count[df_mft_count['Cate_Group_Count']>1]['UPC_mft_code_1'])\n",
    "\n",
    "## Compare items with mft which exist in multiple category groups\n",
    "bool1 = [i in mft_nCate for i in df_mft_cate['UPC_mft_code_1']]\n",
    "mft_cate_compare = df_mft_cate[bool1]\n",
    "\n",
    "#-------------------------\n",
    "#---- Use this reseult----\n",
    "#-------------------------\n",
    "mft_cate_compare = mft_cate_compare.sort_values (by = ['UPC_mft_code_1','Item_Count'],ascending = True )\n",
    "\n",
    "## if the items with mft which exist in only 1 category group, compare such items if they are managed by multiple buyers\n",
    "### in other words, no need to compare items managed by only 1 buyer\n",
    "bool2 = [i in mft_1Cate for i in raw['UPC_mft_code_1']]\n",
    "df2 = raw[bool2]\n",
    "\n",
    "df2_1 = pd.pivot_table(df2,index =['UPC_mft_code_1'],\n",
    "                            values = ['Buyer Full Name'],\n",
    "                            aggfunc = lambda x: len(x.unique()))\n",
    "df2_1 = df2_1.reset_index()\n",
    "df2_1.columns = ['UPC_mft_code_1','Buyer_Count']\n",
    "\n",
    "mft_1Buyer = list(df2_1[df2_1['Buyer_Count']<=1]['UPC_mft_code_1'])\n",
    "mft_1Cate_nBuyer = list(df2_1[df2_1['Buyer_Count']>1]['UPC_mft_code_1'])\n",
    "\n",
    "bool3 = [i in mft_1Cate_nBuyer for i in raw['UPC_mft_code_1']]\n",
    "df3 = raw[bool3]\n",
    "\n",
    "mft_buyer_compare = pd.pivot_table(df3,index =['UPC_mft_code_1','Buyer Full Name'],\n",
    "                            values = ['Prime Item Nbr'],\n",
    "                            aggfunc = lambda x: len(x.unique()))\n",
    "\n",
    "mft_buyer_compare = mft_buyer_compare.reset_index()\n",
    "mft_buyer_compare.columns = ['UPC_mft_code_1','Buyer Full Name','Item_Count']\n",
    "#-------------------------\n",
    "#---- Use this reseult----\n",
    "#-------------------------\n",
    "mft_buyer_compare = mft_buyer_compare.sort_values(by = ['UPC_mft_code_1','Item_Count'],ascending = True)\n"
   ]
  },
  {
   "cell_type": "code",
   "execution_count": 5,
   "metadata": {
    "collapsed": false
   },
   "outputs": [],
   "source": [
    "# Create function to conduct text comparison\n",
    "DB_items = list(raw[raw['Dept Category Group Description'] =='DME BP DIABETES']['Prime Item Desc'])\n",
    "Cat_items = list(raw[raw['Dept Category Group Description'] =='CAT FOOD/LITTER']['Prime Item Desc'])\n",
    "Dog_items = list(raw[raw['Dept Category Group Description'] =='DOG FOOD']['Prime Item Desc'])\n",
    "\n",
    "def Item_Desc_Compare (Str1,Str2):\n",
    "    \n",
    "    cond_cat1 = (' cat' in Str1.lower()) & (' cat' not in Str2.lower())\n",
    "    cond_cat2 = (' cat' in Str2.lower()) & (' cat' not in Str1.lower())\n",
    "\n",
    "    cond_dog1 = (' dog' in Str1.lower()) & (' dog' not in Str2.lower())\n",
    "    cond_dog2 = (' dog' in Str2.lower()) & (' dog' not in Str1.lower())\n",
    "    \n",
    "    cond_baby1 = (' baby' in Str1.lower()) & (' baby' not in Str2.lower())\n",
    "    cond_baby2 = (' baby' in Str2.lower()) & (' baby' not in Str1.lower())\n",
    "    \n",
    "    cond_kid1 = (' kid' in Str1.lower()) & (' kid' not in Str2.lower())\n",
    "    cond_kid2 = (' kid' in Str2.lower()) & (' kid' not in Str1.lower())\n",
    "\n",
    "    if (Str1 in Cat_items)or (Str2 in Cat_items):\n",
    "        Ratio = Partial_Ratio = Token_Sort_Ratio = Token_Set_Ratio = 0\n",
    "                \n",
    "    \n",
    "    elif (Str1 in Dog_items)or (Str2 in Dog_items):\n",
    "        Ratio = Partial_Ratio = Token_Sort_Ratio = Token_Set_Ratio =0\n",
    "        \n",
    "    elif cond_cat1 or cond_cat2:\n",
    "        Ratio = Partial_Ratio = Token_Sort_Ratio = Token_Set_Ratio =0\n",
    "        \n",
    "    elif cond_dog1 or cond_dog2:\n",
    "        Ratio = Partial_Ratio = Token_Sort_Ratio = Token_Set_Ratio =0\n",
    "        \n",
    "    elif cond_baby1 or cond_baby2:\n",
    "        Ratio = Partial_Ratio = Token_Sort_Ratio = Token_Set_Ratio =0\n",
    "        \n",
    "    elif cond_kid1 or cond_kid2:\n",
    "        Ratio = Partial_Ratio = Token_Sort_Ratio = Token_Set_Ratio =0\n",
    "        \n",
    "    #elif (Str1 in DB_items)or (Str2 in DB_items):\n",
    "     #   Ratio = Partial_Ratio = Token_Sort_Ratio = Token_Set_Ratio =Avg_Ratio = 0\n",
    "    \n",
    "    else:\n",
    "        Ratio = fuzz.ratio(Str1.lower(),Str2.lower())\n",
    "        Partial_Ratio = fuzz.partial_ratio(Str1.lower(),Str2.lower())\n",
    "        Token_Sort_Ratio = fuzz.token_sort_ratio(Str1,Str2)\n",
    "        Token_Set_Ratio = fuzz.token_set_ratio(Str1,Str2)        \n",
    "    return(Ratio,Partial_Ratio,Token_Sort_Ratio,Token_Set_Ratio)\n",
    "    "
   ]
  },
  {
   "cell_type": "code",
   "execution_count": 6,
   "metadata": {
    "collapsed": false
   },
   "outputs": [
    {
     "data": {
      "text/plain": [
       "(70, 70, 70, 70)"
      ]
     },
     "execution_count": 6,
     "metadata": {},
     "output_type": "execute_result"
    }
   ],
   "source": [
    "Str1,Str2 = '4746906046','4746905865'\n",
    "Item_Desc_Compare (Str1,Str2)"
   ]
  },
  {
   "cell_type": "code",
   "execution_count": 7,
   "metadata": {
    "collapsed": false
   },
   "outputs": [],
   "source": [
    "#-------------------------\n",
    "#---- mft_cate_compare----\n",
    "#------------------------- \n",
    "\n",
    "\n",
    "#-------------------------------------------------------------------------------------------------\n",
    "#---Step1 Build the data frame contains every possible mft and category group combination\n",
    "#---and without repeat,such that running time will be reduced\n",
    "#------------------------------------------------------------------------------------------------- \n",
    "res_mft_cate = pd.DataFrame(columns =['UPC_mft_code_1',\n",
    "                             'Item_NBR1','UPC1','Cate_Group1','Item_Desc1','Dept_NBR1','Vendor_Name1','Vendor_NBR1'\n",
    "                             'Item_NBR2','UPC2','Cate_Group2','Item_Desc2','Dept_NBR2','Vendor_Name2','Vendor_NBR2'])\n",
    "                             ##,'Ratio','Partial_Ratio','Token_Sort_Ratio','Token_Set_Ratio'])\n",
    "    \n",
    "\n",
    "for k in mft_cate_compare['UPC_mft_code_1'].unique():\n",
    "    bool_mft = raw['UPC_mft_code_1'] == k\n",
    "    test = mft_cate_compare[mft_cate_compare['UPC_mft_code_1'] == k]\n",
    "    test.index = range(len(test))\n",
    "    for i in range(len(test))[:-1]:\n",
    "        cate1 = test.loc[i,'Dept Category Group Description']\n",
    "        bool_cate1 = raw['Dept Category Group Description'] == cate1    \n",
    "        subset1 = raw[bool_mft&bool_cate1]\n",
    "        lst1 = zip(subset1['Prime Item Nbr'],\n",
    "                   subset1['Dept Category Group Description'],\n",
    "                   subset1['UPC'],\n",
    "                   subset1['Prime Item Desc']\n",
    "                  ,subset1['Acct Dept Nbr']\n",
    "                  ,subset1['Vendor Name']\n",
    "                  ,subset1['Vendor Nbr'])\n",
    "    \n",
    "        if i< range(len(test))[-1]:\n",
    "            ix_list = range(len(test))[i+1:]\n",
    "            for j in ix_list:         \n",
    "                cate2 = test.loc[j,'Dept Category Group Description']\n",
    "                bool_cate2 = raw['Dept Category Group Description'] == cate2\n",
    "                subset2 = raw[bool_mft&bool_cate2]         \n",
    "                lst2 = zip(subset2['Prime Item Nbr'], \n",
    "                           subset2['Dept Category Group Description'],\n",
    "                           subset2['UPC'],\n",
    "                           subset2['Prime Item Desc']\n",
    "                          ,subset2['Acct Dept Nbr']\n",
    "                          ,subset2['Vendor Name'],\n",
    "                          subset1['Vendor Nbr'])\n",
    "                temp = [m + n for m in lst1 for n in lst2]\n",
    "            \n",
    "                df_temp = pd.DataFrame(temp)\n",
    "                df_temp.columns = ['Item_NBR1','Cate_Group1','UPC1','Item_Desc1','Dept_NBR1','Vendor_Name1','Vendor_NBR1',\n",
    "                             'Item_NBR2','Cate_Group2','UPC2','Item_Desc2','Dept_NBR2','Vendor_Name2','Vendor_NBR2']\n",
    "                df_temp['UPC_mft_code_1'] = test.loc[i,'UPC_mft_code_1']\n",
    "            \n",
    "                res_mft_cate = pd.concat([res_mft_cate, df_temp],sort=False)\n",
    "    \n",
    "res_mft_cate.index = range(len(res_mft_cate)) \n",
    "\n",
    "#Vendor Name Vendor Nbr\n",
    "\n"
   ]
  },
  {
   "cell_type": "code",
   "execution_count": 8,
   "metadata": {
    "collapsed": false
   },
   "outputs": [],
   "source": [
    "\n",
    "Scores_mft_cate = res_mft_cate.apply(lambda x: Item_Desc_Compare(x['Item_Desc1'],x['Item_Desc2']), axis=1)\n"
   ]
  },
  {
   "cell_type": "code",
   "execution_count": 9,
   "metadata": {
    "collapsed": false
   },
   "outputs": [],
   "source": [
    "df_Scores = pd.DataFrame(list(Scores_mft_cate))\n",
    "\n",
    "df_Scores.columns = ['Ratio','Partial_Ratio','Token_Sort_Ratio','Token_Set_Ratio']\n",
    "df_Scores['Std_Score'] = df_Scores.std(axis=1)\n",
    "df_Scores['Min'] = df_Scores[['Ratio','Partial_Ratio','Token_Sort_Ratio','Token_Set_Ratio']].min(axis=1)\n",
    "df_Scores['Max'] = df_Scores.max(axis=1)\n",
    "df_Scores['Max_0'] = df_Scores[['Ratio','Token_Sort_Ratio','Token_Set_Ratio']].max(axis=1)\n",
    "df_Scores['Avg'] = df_Scores[['Ratio','Partial_Ratio','Token_Sort_Ratio','Token_Set_Ratio']].mean(axis=1)\n",
    "df_Scores['Avg_0'] = df_Scores[['Ratio','Token_Sort_Ratio','Token_Set_Ratio']].mean(axis=1)\n",
    "\n",
    "df_Scores['Sort_LV'] = abs((df_Scores['Token_Sort_Ratio']-df_Scores['Ratio'])/df_Scores['Ratio'])\n",
    "df_Scores['Sort_JC'] = abs((df_Scores['Token_Sort_Ratio']-df_Scores['Token_Set_Ratio'])/df_Scores['Token_Set_Ratio'])\n",
    "\n",
    "df_Scores['Part_LV'] = abs((df_Scores['Partial_Ratio']-df_Scores['Ratio'])/df_Scores['Ratio'])\n",
    "df_Scores['Part_JC'] = abs((df_Scores['Partial_Ratio']-df_Scores['Token_Set_Ratio'])/df_Scores['Token_Set_Ratio'])\n",
    "\n",
    "\n",
    "res_mft_cate_score = pd.merge(res_mft_cate,df_Scores,left_index=True, right_index=True)"
   ]
  },
  {
   "cell_type": "code",
   "execution_count": 10,
   "metadata": {
    "collapsed": true
   },
   "outputs": [],
   "source": [
    "res_mft_cate_score[res_mft_cate_score['Std_Score']>15].to_csv('std15.csv',index = False,encoding='utf_8_sig')"
   ]
  },
  {
   "cell_type": "code",
   "execution_count": 11,
   "metadata": {
    "collapsed": false
   },
   "outputs": [],
   "source": [
    "\n",
    "bool1 = res_mft_cate_score['Ratio']>40\n",
    "bool2 = res_mft_cate_score['Token_Set_Ratio']>60\n",
    "res_mft_cate_score[bool1&bool2].to_csv('test1.csv',index = False,encoding='utf_8_sig')"
   ]
  },
  {
   "cell_type": "code",
   "execution_count": 12,
   "metadata": {
    "collapsed": false
   },
   "outputs": [],
   "source": [
    "bool1 = res_mft_cate_score['Token_Sort_Ratio']<64\n",
    "bool2 = res_mft_cate_score['Token_Set_Ratio']>80\n",
    "res_mft_cate_score[bool1&bool2].to_csv('2.3.csv',index = False,encoding='utf_8_sig')"
   ]
  },
  {
   "cell_type": "code",
   "execution_count": 13,
   "metadata": {
    "collapsed": false
   },
   "outputs": [
    {
     "data": {
      "text/html": [
       "<div>\n",
       "<style scoped>\n",
       "    .dataframe tbody tr th:only-of-type {\n",
       "        vertical-align: middle;\n",
       "    }\n",
       "\n",
       "    .dataframe tbody tr th {\n",
       "        vertical-align: top;\n",
       "    }\n",
       "\n",
       "    .dataframe thead th {\n",
       "        text-align: right;\n",
       "    }\n",
       "</style>\n",
       "<table border=\"1\" class=\"dataframe\">\n",
       "  <thead>\n",
       "    <tr style=\"text-align: right;\">\n",
       "      <th></th>\n",
       "      <th>UPC_mft_code_1</th>\n",
       "      <th>Item_NBR1</th>\n",
       "      <th>UPC1</th>\n",
       "      <th>Cate_Group1</th>\n",
       "      <th>Item_Desc1</th>\n",
       "      <th>Dept_NBR1</th>\n",
       "      <th>Vendor_Name1</th>\n",
       "      <th>Vendor_NBR1Item_NBR2</th>\n",
       "      <th>UPC2</th>\n",
       "      <th>Cate_Group2</th>\n",
       "      <th>...</th>\n",
       "      <th>Std_Score</th>\n",
       "      <th>Min</th>\n",
       "      <th>Max</th>\n",
       "      <th>Max_0</th>\n",
       "      <th>Avg</th>\n",
       "      <th>Avg_0</th>\n",
       "      <th>Sort_LV</th>\n",
       "      <th>Sort_JC</th>\n",
       "      <th>Part_LV</th>\n",
       "      <th>Part_JC</th>\n",
       "    </tr>\n",
       "  </thead>\n",
       "  <tbody>\n",
       "  </tbody>\n",
       "</table>\n",
       "<p>0 rows × 30 columns</p>\n",
       "</div>"
      ],
      "text/plain": [
       "Empty DataFrame\n",
       "Columns: [UPC_mft_code_1, Item_NBR1, UPC1, Cate_Group1, Item_Desc1, Dept_NBR1, Vendor_Name1, Vendor_NBR1Item_NBR2, UPC2, Cate_Group2, Item_Desc2, Dept_NBR2, Vendor_Name2, Vendor_NBR2, Vendor_NBR1, Item_NBR2, Ratio, Partial_Ratio, Token_Sort_Ratio, Token_Set_Ratio, Std_Score, Min, Max, Max_0, Avg, Avg_0, Sort_LV, Sort_JC, Part_LV, Part_JC]\n",
       "Index: []\n",
       "\n",
       "[0 rows x 30 columns]"
      ]
     },
     "execution_count": 13,
     "metadata": {},
     "output_type": "execute_result"
    }
   ],
   "source": [
    "res_mft_cate_score[res_mft_cate_score['Item_NBR2'] == 4070131]\n"
   ]
  },
  {
   "cell_type": "code",
   "execution_count": 14,
   "metadata": {
    "collapsed": false
   },
   "outputs": [],
   "source": [
    "df_cutoff = pd.DataFrame()\n",
    "start = max(min(res_mft_cate_score['Max_0']),min(res_mft_cate_score['Max']))\n",
    "cutoff_list = range(start,100)\n",
    "for i in range(len(cutoff_list)):\n",
    "    df_cutoff.loc[i,'Cutoff']=cutoff_list[i]\n",
    "    df_cutoff.loc[i,'Max'] = sum(res_mft_cate_score['Max']>i)\n",
    "    df_cutoff.loc[i,'Max0'] = sum(res_mft_cate_score['Max_0']>i)\n",
    "    df_cutoff.loc[i,'Avg'] = sum(res_mft_cate_score['Avg']>i)\n",
    "    df_cutoff.loc[i,'Avg0'] = sum(res_mft_cate_score['Avg']>i)\n",
    "    df_cutoff.loc[i,'Min'] = sum(res_mft_cate_score['Min']>i)"
   ]
  },
  {
   "cell_type": "code",
   "execution_count": 15,
   "metadata": {
    "collapsed": false
   },
   "outputs": [
    {
     "data": {
      "text/plain": [
       "<matplotlib.legend.Legend at 0x19f0b320>"
      ]
     },
     "execution_count": 15,
     "metadata": {},
     "output_type": "execute_result"
    },
    {
     "data": {
      "image/png": "[encoded data removed]",
      "text/plain": [
       "<matplotlib.figure.Figure at 0x88b6c88>"
      ]
     },
     "metadata": {},
     "output_type": "display_data"
    }
   ],
   "source": [
    "import matplotlib.pyplot as plt\n",
    "%matplotlib inline\n",
    "\n",
    "t = df_cutoff['Cutoff']\n",
    "plt.xticks(np.arange(start, 101, 5))\n",
    "#plt.yticks(np.arange(0, 1500000, 1000))\n",
    "plt.plot( t, df_cutoff['Max0'],t, df_cutoff['Min'])\n",
    "\n",
    "plt.gca().legend(('Max','Min'))"
   ]
  },
  {
   "cell_type": "code",
   "execution_count": 24,
   "metadata": {
    "collapsed": false
   },
   "outputs": [
    {
     "data": {
      "text/plain": [
       "<matplotlib.legend.Legend at 0x27e8ab00>"
      ]
     },
     "execution_count": 24,
     "metadata": {},
     "output_type": "execute_result"
    },
    {
     "data": {
      "image/png": "[encoded data removed]",
      "text/plain": [
       "<matplotlib.figure.Figure at 0x27bcf668>"
      ]
     },
     "metadata": {},
     "output_type": "display_data"
    }
   ],
   "source": [
    "import matplotlib.pyplot as plt\n",
    "%matplotlib inline\n",
    "\n",
    "plt.axis([60,101,100,2000])\n",
    "\n",
    "t = df_cutoff['Cutoff']\n",
    "plt.xticks(np.arange(45, 101, 3))\n",
    "plt.yticks(np.arange(0, 5000,200))\n",
    "plt.plot( t, df_cutoff['Max0'],t, df_cutoff['Min'])\n",
    "\n",
    "plt.gca().legend(('Max','Min'))"
   ]
  },
  {
   "cell_type": "code",
   "execution_count": 26,
   "metadata": {
    "collapsed": false
   },
   "outputs": [],
   "source": [
    "os.chdir(r'C:\\Users\\t0d00dh\\01_Projects\\Item_Matching')\n",
    "cond1 = res_mft_cate_score['Min']>63\n",
    "cond2 = res_mft_cate_score['Max_0']>66\n",
    "cond3 = res_mft_cate_score['Avg_0']>71\n",
    "poss_match = res_mft_cate_score[cond1&cond2]\n",
    "poss_match.to_csv('poss_match_min63max66_0707.csv',index = False,encoding='utf_8_sig')"
   ]
  },
  {
   "cell_type": "code",
   "execution_count": 18,
   "metadata": {
    "collapsed": true
   },
   "outputs": [],
   "source": [
    "poss_match = res_mft_cate_score[cond2]\n",
    "poss_match.to_csv('poss_match_max71_0707.csv',index = False,encoding='utf_8_sig')"
   ]
  },
  {
   "cell_type": "code",
   "execution_count": 19,
   "metadata": {
    "collapsed": true
   },
   "outputs": [],
   "source": [
    "muli_match1 = pd.pivot_table(poss_match,index =['Item_NBR1','Item_Desc1'],\n",
    "                            values = ['Item_NBR2','Cate_Group2'],\n",
    "                            aggfunc = lambda x: len(x.unique()))\n",
    "muli_match1 = muli_match1.reset_index()\n",
    "muli_match1 = muli_match1.sort_values(by = ['Cate_Group2','Item_NBR2'],ascending = False)\n",
    "\n",
    "muli_match2 = pd.pivot_table(poss_match,index =['Item_NBR2','Item_Desc2'],\n",
    "                            values = ['Item_NBR1','Cate_Group1'],\n",
    "                            aggfunc = lambda x: len(x.unique()))\n",
    "muli_match2 = muli_match2.reset_index()\n",
    "muli_match2 = muli_match2.sort_values(by = ['Cate_Group1','Item_NBR1'],ascending = False)\n",
    "muli_match2.columns = muli_match1.columns\n",
    "\n",
    "\n",
    "muli_match1.index = range(len(muli_match1))\n",
    "muli_match2.index = range(len(muli_match2))\n",
    "multi_match = muli_match1.append(muli_match2,ignore_index=True)\n",
    "\n",
    "multi_match_new = pd.pivot_table(multi_match,index =['Item_NBR1','Item_Desc1'],\n",
    "                            values = ['Item_NBR2','Cate_Group2'],\n",
    "                            aggfunc = np.sum)\n",
    "multi_match_new = multi_match_new.reset_index()\n",
    "multi_match_new = multi_match_new.sort_values(by = ['Cate_Group2','Item_NBR2'],ascending  = False)\n",
    "\n",
    "muli_match2.to_csv('muli_match2.csv',index = False,encoding='utf_8_sig')"
   ]
  },
  {
   "cell_type": "code",
   "execution_count": 20,
   "metadata": {
    "collapsed": false
   },
   "outputs": [
    {
     "name": "stdout",
     "output_type": "stream",
     "text": [
      "2019-07-08 03:04:57.465000\n"
     ]
    }
   ],
   "source": [
    "print datetime.datetime.utcnow()"
   ]
  },
  {
   "cell_type": "code",
   "execution_count": null,
   "metadata": {
    "collapsed": true
   },
   "outputs": [],
   "source": []
  }
 ],
 "metadata": {
  "anaconda-cloud": {},
  "kernelspec": {
   "display_name": "Python [Anaconda2]",
   "language": "python",
   "name": "Python [Anaconda2]"
  },
  "language_info": {
   "codemirror_mode": {
    "name": "ipython",
    "version": 2
   },
   "file_extension": ".py",
   "mimetype": "text/x-python",
   "name": "python",
   "nbconvert_exporter": "python",
   "pygments_lexer": "ipython2",
   "version": "2.7.12"
  }
 },
 "nbformat": 4,
 "nbformat_minor": 2
}
